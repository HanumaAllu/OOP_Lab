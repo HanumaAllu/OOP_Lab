{
  "nbformat": 4,
  "nbformat_minor": 0,
  "metadata": {
    "colab": {
      "name": "Hanuma_20bcs008_OOPTask3",
      "provenance": [],
      "authorship_tag": "ABX9TyNaEqVMiG++bBtiukz3togB",
      "include_colab_link": true
    },
    "kernelspec": {
      "name": "python3",
      "display_name": "Python 3"
    },
    "language_info": {
      "name": "python"
    }
  },
  "cells": [
    {
      "cell_type": "markdown",
      "metadata": {
        "id": "view-in-github",
        "colab_type": "text"
      },
      "source": [
        "<a href=\"https://colab.research.google.com/github/HanumaAllu/OOP/blob/main/Hanuma_20bcs008_OOPTask3.ipynb\" target=\"_parent\"><img src=\"https://colab.research.google.com/assets/colab-badge.svg\" alt=\"Open In Colab\"/></a>"
      ]
    },
    {
      "cell_type": "code",
      "metadata": {
        "colab": {
          "base_uri": "https://localhost:8080/"
        },
        "id": "KdpKc-IwnfPm",
        "outputId": "b4c121fe-6869-4b2c-fa31-9f1053af2404"
      },
      "source": [
        "class Student:\n",
        "  def __init__(self, Name, Reg_No, Age, Gender, Branch, Sem,):\n",
        "    self.Name = Name\n",
        "    self.Reg_No = Reg_No\n",
        "    self.Age = Age\n",
        "    self.Gender = Gender\n",
        "    self.Branch = Branch\n",
        "    self.Sem = Sem\n",
        "\n",
        "class StudentResultInfo(Student):\n",
        "  def __init__(self, Name, Reg_No, Age, Gender, Branch, Sem, Total_Marks, Percentage, Grade):\n",
        "    Student.__init__(self, Name, Reg_No, Age, Gender, Branch, Sem)\n",
        "    self.Total_Marks = Total_Marks\n",
        "    self.Percentage = Percentage\n",
        "    self.Grade = Grade\n",
        "     \n",
        "  def disp(self):\n",
        "    print(\"Name:\", self.Name)\n",
        "    print(\"Reg_No:\", self.Reg_No)\n",
        "    print(\"Age:\", self.Age)\n",
        "    print(\"Gender:\", self.Gender)\n",
        "    print(\"Branch:\", self.Branch)\n",
        "    print(\"Sem:\", self.Sem)\n",
        "    print(\"Total_Marks:\", self.Total_Marks)\n",
        "    print(\"percentage:\", self.Percentage)\n",
        "    print(\"Grade:\", self.Grade)\n",
        "  \n",
        "S1 = StudentResultInfo(\"Hanuma\", \"20bcs008\", 20, \"Male\", \"CSE\", 3, 100, 50, 5.0)\n",
        "S1.disp()"
      ],
      "execution_count": null,
      "outputs": [
        {
          "output_type": "stream",
          "name": "stdout",
          "text": [
            "Name: Hanuma\n",
            "Reg_No: 20bcs008\n",
            "Age: 20\n",
            "Gender: Male\n",
            "Branch: CSE\n",
            "Sem: 3\n",
            "Total_Marks: 100\n",
            "percentage: 50\n",
            "Grade: 5.0\n"
          ]
        }
      ]
    },
    {
      "cell_type": "code",
      "metadata": {
        "colab": {
          "base_uri": "https://localhost:8080/"
        },
        "id": "HfM4p0YwE5dR",
        "outputId": "49e579eb-ee89-49b6-fc1b-aa5e2a5c3226"
      },
      "source": [
        "class document:\n",
        "  def __init__(self,creator,description,size):\n",
        "    self.creator = creator\n",
        "    self.description = description\n",
        "    self.size = size\n",
        "    self.threshold = 100\n",
        "  def check(self):\n",
        "    if self.size > self.threshold:\n",
        "      print(\"The size of the file is beyond the threshold size\")\n",
        "      return False\n",
        "    else:\n",
        "      print(\"Yes,the file is accepted\")\n",
        "      return True\n",
        "  def display(self):\n",
        "    print(\"file creator = \",self.creator)\n",
        "    print(\"file description = \",self.description)\n",
        "    print(\"file size = \",self.size)\n",
        "\n",
        "class pdf(document):\n",
        "  def __init__(self,creator,description,size):\n",
        "    document.__init__(self,creator,description,size)\n",
        "\n",
        "class picture(document):\n",
        "  def __init__(self,creator,description,dimension,size):\n",
        "    document.__init__(self,creator,description,size)\n",
        "    self.dimension = dimension\n",
        "  def check_dim(self):\n",
        "    if k == True:\n",
        "      if self.dimension > 6237:\n",
        "        print(\"High dimension picture\")\n",
        "      else:\n",
        "        print(\"yes,the picture is accepted\")\n",
        "    else:\n",
        "      print(\"File is not accepted because of its size\")\n",
        "\n",
        "p = pdf(\"OOP\",\"Concepts of oop\",101)\n",
        "p.check()\n",
        "p.display()\n",
        "print(\"=========================================\")\n",
        "pic = picture(\"Maths\",\"graph of fourier\",6235,1)\n",
        "k = pic.check()\n",
        "pic.display()\n",
        "pic.check_dim()"
      ],
      "execution_count": null,
      "outputs": [
        {
          "output_type": "stream",
          "name": "stdout",
          "text": [
            "The size of the file is beyond the threshold size\n",
            "file creator =  OOP\n",
            "file description =  Concepts of oop\n",
            "file size =  101\n",
            "=========================================\n",
            "Yes,the file is accepted\n",
            "file creator =  Maths\n",
            "file description =  graph of fourier\n",
            "file size =  1\n",
            "yes,the picture is accepted\n"
          ]
        }
      ]
    },
    {
      "cell_type": "code",
      "metadata": {
        "colab": {
          "base_uri": "https://localhost:8080/"
        },
        "id": "P07DASyF5C_H",
        "outputId": "71ccaad3-aab1-404e-fee1-32c7ce01780f"
      },
      "source": [
        "class Vehicle:\n",
        "    def __init__(self, name, mileage, capacity):\n",
        "        self.name = name\n",
        "        self.mileage = mileage\n",
        "        self.capacity = capacity\n",
        "\n",
        "    def fare(self):\n",
        "        return self.capacity * 100\n",
        "\n",
        "class Bus(Vehicle):\n",
        "    \n",
        "    def fare(self):\n",
        "        fare_bus = self.capacity * 100 \n",
        "        total_fare = fare_bus + (0.1 *fare_bus)\n",
        "        return total_fare\n",
        "\n",
        "School_bus = Bus(\"School Volvo\", 12, 50)\n",
        "print(\"Total Bus fare is:\", School_bus.fare())"
      ],
      "execution_count": null,
      "outputs": [
        {
          "output_type": "stream",
          "name": "stdout",
          "text": [
            "Total Bus fare is: 5500.0\n"
          ]
        }
      ]
    }
  ]
}