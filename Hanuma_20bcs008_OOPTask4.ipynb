{
  "nbformat": 4,
  "nbformat_minor": 0,
  "metadata": {
    "colab": {
      "name": "Hanuma_20bcs008_OOPTask4.ipynb",
      "provenance": [],
      "authorship_tag": "ABX9TyPzSIp8NSomGq6mAyS2kgwJ",
      "include_colab_link": true
    },
    "kernelspec": {
      "name": "python3",
      "display_name": "Python 3"
    },
    "language_info": {
      "name": "python"
    }
  },
  "cells": [
    {
      "cell_type": "markdown",
      "metadata": {
        "id": "view-in-github",
        "colab_type": "text"
      },
      "source": [
        "<a href=\"https://colab.research.google.com/github/HanumaAllu/OOP_Lab/blob/main/Hanuma_20bcs008_OOPTask4.ipynb\" target=\"_parent\"><img src=\"https://colab.research.google.com/assets/colab-badge.svg\" alt=\"Open In Colab\"/></a>"
      ]
    },
    {
      "cell_type": "code",
      "metadata": {
        "colab": {
          "base_uri": "https://localhost:8080/",
          "height": 0
        },
        "id": "WOXNrB3nrzQR",
        "outputId": "8d719104-4e1e-4d8e-b681-d6f0d79a5495"
      },
      "source": [
        "class Node:\n",
        "\t\n",
        "\t\n",
        "\tdef __init__(self,data):\n",
        "\t\tself.data = data\n",
        "\t\tself.next = None\n",
        "\t\n",
        "class Stack:\n",
        "\t\n",
        "\t\n",
        "\tdef __init__(self):\n",
        "\t\tself.head = None\n",
        "\t\n",
        "\t\n",
        "\tdef isempty(self):\n",
        "\t\tif self.head == None:\n",
        "\t\t\treturn True\n",
        "\t\telse:\n",
        "\t\t\treturn False\n",
        "\t\n",
        "\tdef push(self,data):\n",
        "\t\tif self.head == None:\n",
        "\t\t\tself.head=Node(data)\n",
        "\t\telse:\n",
        "\t\t\tnewnode = Node(data)\n",
        "\t\t\tnewnode.next = self.head\n",
        "\t\t\tself.head = newnode\n",
        "\t\n",
        "\t\n",
        "\tdef pop(self):\n",
        "\t\tif self.isempty():\n",
        "\t\t\treturn None\n",
        "\t\telse:\n",
        "\t\t\t\n",
        "\t\t\tpoppednode = self.head\n",
        "\t\t\tself.head = self.head.next\n",
        "\t\t\tpoppednode.next = None\n",
        "\t\t\treturn poppednode.data\n",
        "\t\n",
        "\t\n",
        "\tdef peek(self):\n",
        "\t\tif self.isempty():\n",
        "\t\t\treturn None\n",
        "\t\telse:\n",
        "\t\t\treturn self.head.data\n",
        "\t\n",
        "\t\t\n",
        "\tdef display(self):\n",
        "\t\titernode = self.head\n",
        "\t\tif self.isempty():\n",
        "\t\t\tprint(\"Stack Underflow\")\n",
        "\t\telse:\n",
        "\t\t\twhile(iternode != None):\n",
        "\t\t\t\tprint(iternode.data,\"->\",end = \" \")\n",
        "\t\t\t\titernode = iternode.next\n",
        "\t\t\treturn\n",
        "\t\t\n",
        "\n",
        "OwnStack = Stack()\n",
        "\n",
        "OwnStack.push(21)\n",
        "OwnStack.push(60)\n",
        "OwnStack.push(10)\n",
        "OwnStack.push(20)\n",
        "\n",
        "\n",
        "OwnStack.display()\n",
        "\n",
        "\n",
        "print(\"\\nTop element is \",OwnStack.peek())\n",
        "\n",
        "\n",
        "OwnStack.pop()\n",
        "OwnStack.pop()\n",
        "\n",
        "\n",
        "OwnStack.display()\n",
        "\n",
        "\n",
        "print(\"\\nTop element is \", OwnStack.peek())"
      ],
      "execution_count": 24,
      "outputs": [
        {
          "output_type": "stream",
          "name": "stdout",
          "text": [
            "20 -> 10 -> 60 -> 21 -> \n",
            "Top element is  20\n",
            "60 -> 21 -> \n",
            "Top element is  60\n"
          ]
        }
      ]
    },
    {
      "cell_type": "code",
      "metadata": {
        "colab": {
          "base_uri": "https://localhost:8080/",
          "height": 0
        },
        "id": "FuEkOut-EgVe",
        "outputId": "8b6ce721-27ab-4c14-b61e-e066c067b3cc"
      },
      "source": [
        "class Rectangle():\n",
        "    def __init__(self, l, b):\n",
        "        self.length = l\n",
        "        self.breadth  = b\n",
        "\n",
        "    def rectangle_area(self):\n",
        "        return self.length*self.breadth\n",
        "\n",
        "newRectangle = Rectangle(21, 20)\n",
        "print(newRectangle.rectangle_area())"
      ],
      "execution_count": 20,
      "outputs": [
        {
          "output_type": "stream",
          "name": "stdout",
          "text": [
            "420\n"
          ]
        }
      ]
    },
    {
      "cell_type": "code",
      "metadata": {
        "colab": {
          "base_uri": "https://localhost:8080/",
          "height": 0
        },
        "id": "4iEO-o19FIkB",
        "outputId": "521de9e6-834f-4771-c5b5-3fb9a3436aff"
      },
      "source": [
        "class Queue:\n",
        "\n",
        "    def __init__(self):\n",
        "        self.queue = []\n",
        "\n",
        "    \n",
        "    def enqueue(self, item):\n",
        "        self.queue.append(item)\n",
        "\n",
        "    \n",
        "    def dequeue(self):\n",
        "        if len(self.queue) < 1:\n",
        "            return None\n",
        "        return self.queue.pop(0)\n",
        "\n",
        "    \n",
        "    def display(self):\n",
        "        print(self.queue)\n",
        "\n",
        "    def size(self):\n",
        "        return len(self.queue)\n",
        "\n",
        "\n",
        "q = Queue()\n",
        "q.enqueue(21)\n",
        "q.enqueue(20)\n",
        "q.enqueue(10)\n",
        "q.enqueue(60)\n",
        "q.enqueue(12)\n",
        "\n",
        "q.display()\n",
        "\n",
        "q.dequeue()\n",
        "\n",
        "print(\"Elements in Queue after removing an element\")\n",
        "q.display()"
      ],
      "execution_count": 19,
      "outputs": [
        {
          "output_type": "stream",
          "name": "stdout",
          "text": [
            "[21, 20, 10, 60, 12]\n",
            "Elements in Queue after removing an element\n",
            "[20, 10, 60, 12]\n"
          ]
        }
      ]
    }
  ]
}