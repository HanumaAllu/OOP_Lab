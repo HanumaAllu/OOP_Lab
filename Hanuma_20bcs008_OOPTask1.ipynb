{
  "nbformat": 4,
  "nbformat_minor": 0,
  "metadata": {
    "colab": {
      "name": "Hanuma_20bcs008_OOPTask1.ipynb",
      "provenance": [],
      "mount_file_id": "10HvLA1IHIUNKBV71oZu1E-LwOkivOBVR",
      "authorship_tag": "ABX9TyPgFt3knK5bkHKU+ZcVsnti",
      "include_colab_link": true
    },
    "kernelspec": {
      "name": "python3",
      "display_name": "Python 3"
    },
    "language_info": {
      "name": "python"
    }
  },
  "cells": [
    {
      "cell_type": "markdown",
      "metadata": {
        "id": "view-in-github",
        "colab_type": "text"
      },
      "source": [
        "<a href=\"https://colab.research.google.com/github/HanumaAllu/OOP/blob/main/Hanuma_20bcs008_OOPTask1.ipynb\" target=\"_parent\"><img src=\"https://colab.research.google.com/assets/colab-badge.svg\" alt=\"Open In Colab\"/></a>"
      ]
    },
    {
      "cell_type": "code",
      "metadata": {
        "colab": {
          "base_uri": "https://localhost:8080/"
        },
        "id": "_661PmuVqPvn",
        "outputId": "19680b52-fead-4216-abdf-e6d4752ae677"
      },
      "source": [
        "def is_leap(year):\n",
        "    leap = False\n",
        "    \n",
        "    if year%400==0 :\n",
        "        leap = True;\n",
        "    elif year%4 == 0 and year%100 != 0:\n",
        "        leap = True;\n",
        "    return leap\n",
        "    \n",
        "year = int(input(\"Enter Year:\"))\n",
        "print(is_leap(year))"
      ],
      "execution_count": 6,
      "outputs": [
        {
          "output_type": "stream",
          "name": "stdout",
          "text": [
            "Enter Year:2021\n",
            "False\n"
          ]
        }
      ]
    },
    {
      "cell_type": "code",
      "metadata": {
        "colab": {
          "base_uri": "https://localhost:8080/"
        },
        "id": "6E92D3N37VAn",
        "outputId": "aefa42a9-3d8b-41e0-d3ee-4b8fdcd6fe7e"
      },
      "source": [
        "n=int(input(\"Enter Number:\"))\n",
        "if n % 2 == 1 :\n",
        "    print(\"Weird\")\n",
        "elif n % 2 == 0 and 2 >= n <= 5:\n",
        "    print(\"Not Weird\")\n",
        "elif n % 2 == 0 and 6 >= n <= 20:\n",
        "    print(\"Weird\")\n",
        "else:\n",
        "  print(\"Not Weird\")   "
      ],
      "execution_count": 27,
      "outputs": [
        {
          "output_type": "stream",
          "name": "stdout",
          "text": [
            "Enter Number:20\n",
            "Not Weird\n"
          ]
        }
      ]
    },
    {
      "cell_type": "code",
      "metadata": {
        "colab": {
          "base_uri": "https://localhost:8080/"
        },
        "id": "PfEjP4D7kc7S",
        "outputId": "afde2385-28ef-466c-90aa-ab73c8b42e02"
      },
      "source": [
        "Guests = ['Hardik', 'Rahul', 'Virat', 'Rishabh', 'Mahi', 'Rohit', 'Rahane']\n",
        "Name = str(input(\"Enter Guest Name:\"))\n",
        "\n",
        "def is_Fashionably_Late(Guests , Name):\n",
        "  count = len(Guests)\n",
        "Half_of_Guests = (count//2) + (0 if count%2==0 else 1)\n",
        "\n",
        "Guests_Position = Guests.index(Name)\n",
        "\n",
        "if Guests_Position > Half_of_Guests and Guests_Position < count:\n",
        "    print(\"The Guest,\" , Name , \"is not Fashionably Late.\")\n",
        "else:\n",
        "    print(\"The Guest,\" , Name , \"is Fashoinably Late.\")"
      ],
      "execution_count": 20,
      "outputs": [
        {
          "output_type": "stream",
          "name": "stdout",
          "text": [
            "Enter Guest Name:Mahi\n",
            "The Guest, Mahi is Fashoinably Late.\n"
          ]
        }
      ]
    },
    {
      "cell_type": "code",
      "metadata": {
        "colab": {
          "base_uri": "https://localhost:8080/"
        },
        "id": "-p4fvaaECKSq",
        "outputId": "e312ecb7-e31a-46bb-9bfc-86cc00330be5"
      },
      "source": [
        "BP = int(input('Employee Basic Pay (BP) : '))\n",
        "DA = BP*(40/100)\n",
        "print('DA of Employee=',DA)\n",
        "HRA = BP*(20/100)\n",
        "print('HRA of Employee=',HRA)\n",
        "GP = BP + DA + HRA\n",
        "print('Gross Pay (GP) of Employee=',GP)"
      ],
      "execution_count": 29,
      "outputs": [
        {
          "output_type": "stream",
          "name": "stdout",
          "text": [
            "Employee Basic Pay (BP) : 1000\n",
            "DA of Employee= 400.0\n",
            "HRA of Employee= 200.0\n",
            "Gross Pay (GP) of Employee= 1600.0\n"
          ]
        }
      ]
    }
  ]
}