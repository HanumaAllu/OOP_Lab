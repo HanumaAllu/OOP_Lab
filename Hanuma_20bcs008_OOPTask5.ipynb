{
  "nbformat": 4,
  "nbformat_minor": 0,
  "metadata": {
    "colab": {
      "name": "Hanuma_20bcs008_OOPTask5.ipynb",
      "provenance": [],
      "authorship_tag": "ABX9TyOmSVGJQtFr7qbnm0J5cKik",
      "include_colab_link": true
    },
    "kernelspec": {
      "name": "python3",
      "display_name": "Python 3"
    },
    "language_info": {
      "name": "python"
    }
  },
  "cells": [
    {
      "cell_type": "markdown",
      "metadata": {
        "id": "view-in-github",
        "colab_type": "text"
      },
      "source": [
        "<a href=\"https://colab.research.google.com/github/HanumaAllu/OOP_Lab/blob/main/Hanuma_20bcs008_OOPTask5.ipynb\" target=\"_parent\"><img src=\"https://colab.research.google.com/assets/colab-badge.svg\" alt=\"Open In Colab\"/></a>"
      ]
    },
    {
      "cell_type": "code",
      "metadata": {
        "colab": {
          "base_uri": "https://localhost:8080/"
        },
        "id": "fCtBqUBD6567",
        "outputId": "f41e0f8b-c081-4c7f-f8c8-a71f2e4d378f"
      },
      "source": [
        "class Shape:\n",
        "\n",
        "  def __init__(self, shape):\n",
        "    self.shape = shape\n",
        "\n",
        "  def area(self):\n",
        "    pass  \n",
        "\n",
        "class circle(Shape):\n",
        "\n",
        "  def __init__(self, radius):\n",
        "    self.radius = radius\n",
        "\n",
        "  def area(self):\n",
        "    print(3.14*(self.radius)*2)\n",
        "\n",
        "class square(Shape):\n",
        "  \n",
        "  def __init__(self, side):\n",
        "    self.side = side\n",
        "\n",
        "  def area(self):\n",
        "    print((self.side)**2)\n",
        "\n",
        "class rectangle(Shape):\n",
        "\n",
        "  def __init__(self, length, breadth):\n",
        "    self.length = length\n",
        "    self.breadth = breadth\n",
        "\n",
        "  def area(self):\n",
        "    print(self.length*self.breadth)\n",
        "\n",
        "shape1 = circle(2)\n",
        "shape1.area()  \n",
        "\n",
        "shape2 = square(21)\n",
        "shape2.area()\n",
        "\n",
        "shape3 = rectangle(15,6)\n",
        "shape3.area()"
      ],
      "execution_count": null,
      "outputs": [
        {
          "output_type": "stream",
          "name": "stdout",
          "text": [
            "12.56\n",
            "441\n",
            "90\n"
          ]
        }
      ]
    },
    {
      "cell_type": "code",
      "metadata": {
        "colab": {
          "base_uri": "https://localhost:8080/"
        },
        "id": "q2SL9ggaQ5Ad",
        "outputId": "d23e31ea-c125-4376-c57d-bcfa025fe84b"
      },
      "source": [
        "class Travel:\n",
        "\n",
        "  def __init__(self, travel):\n",
        "    self.travel = travel\n",
        "\n",
        "  def __number_of_passengers(self):\n",
        "    pass\n",
        "\n",
        "  def distance(self):\n",
        "    pass\n",
        "\n",
        "  def mode(self):\n",
        "    pass\n",
        "\n",
        "class train(Travel):\n",
        "\n",
        "  def __init__(self, total_passengers):\n",
        "    self.total_passengers = total_passengers\n",
        "\n",
        "  def cost_of_transport(self):\n",
        "    print(self.total_passengers*60)\n",
        "\n",
        "class bus(Travel):\n",
        "\n",
        "  def __init__(self, total_passengers):\n",
        "    self.total_passengers = total_passengers\n",
        "\n",
        "  def cost_of_transport(self):\n",
        "    print(self.total_passengers*100)\n",
        "\n",
        "mode1 = train(300)\n",
        "mode1.cost_of_transport()\n",
        "\n",
        "mode2 = bus(50)\n",
        "mode2.cost_of_transport()"
      ],
      "execution_count": null,
      "outputs": [
        {
          "output_type": "stream",
          "name": "stdout",
          "text": [
            "18000\n",
            "5000\n"
          ]
        }
      ]
    },
    {
      "cell_type": "code",
      "metadata": {
        "colab": {
          "base_uri": "https://localhost:8080/",
          "height": 0
        },
        "id": "_i1JBS16SRTr",
        "outputId": "6797c422-aaf1-4e9e-90de-99d432bec3b4"
      },
      "source": [
        "class car:\n",
        "  def __init__(self,car_number):\n",
        "    self.car_number=car_number\n",
        "c1=car(1998)\n",
        "c2=car(2002)\n",
        "print('the model number of c1 is',c1.car_number)\n",
        "print('the model number of c2 is',c2.car_number)\n",
        "print('--------------------------------')\n",
        "def car_number_swap():\n",
        "  c1.car_number,c2.car_number=c2.car_number,c1.car_number\n",
        "  print(\"the model number of c1 is \",c1.car_number)\n",
        "  print(\"the model number of c2 is \",c2.car_number)\n",
        "car_number_swap()"
      ],
      "execution_count": 7,
      "outputs": [
        {
          "output_type": "stream",
          "name": "stdout",
          "text": [
            "the model number of c1 is 1998\n",
            "the model number of c2 is 2002\n",
            "--------------------------------\n",
            "the model number of c1 is  2002\n",
            "the model number of c2 is  1998\n"
          ]
        }
      ]
    }
  ]
}