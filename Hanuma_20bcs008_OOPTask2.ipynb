{
  "nbformat": 4,
  "nbformat_minor": 0,
  "metadata": {
    "colab": {
      "name": "Hanuma_20bcs008_OOPTask2.ipynb",
      "provenance": [],
      "authorship_tag": "ABX9TyPSGn3SUAtBUzL0zUTj9aSQ",
      "include_colab_link": true
    },
    "kernelspec": {
      "name": "python3",
      "display_name": "Python 3"
    },
    "language_info": {
      "name": "python"
    }
  },
  "cells": [
    {
      "cell_type": "markdown",
      "metadata": {
        "id": "view-in-github",
        "colab_type": "text"
      },
      "source": [
        "<a href=\"https://colab.research.google.com/github/HanumaAllu/OOP/blob/main/Hanuma_20bcs008_OOPTask2.ipynb\" target=\"_parent\"><img src=\"https://colab.research.google.com/assets/colab-badge.svg\" alt=\"Open In Colab\"/></a>"
      ]
    },
    {
      "cell_type": "code",
      "metadata": {
        "colab": {
          "base_uri": "https://localhost:8080/"
        },
        "id": "q13MF7OcDVbx",
        "outputId": "22474c8e-0686-48a3-a915-e57cb16dd5d0"
      },
      "source": [
        "class Circle():\n",
        "    def __init__(self, r):\n",
        "        self.radius = r\n",
        "\n",
        "    def area(self):\n",
        "        return self.radius**2*3.14\n",
        "    \n",
        "    def perimeter(self):\n",
        "        return 2*self.radius*3.14\n",
        "r=int(input(\"Enter radius of Circle:\"))\n",
        "NewCircle = Circle(r)\n",
        "print(NewCircle.area())\n",
        "print(NewCircle.perimeter())"
      ],
      "execution_count": 5,
      "outputs": [
        {
          "output_type": "stream",
          "name": "stdout",
          "text": [
            "Enter radius of Circle:6\n",
            "113.04\n",
            "37.68\n"
          ]
        }
      ]
    },
    {
      "cell_type": "code",
      "metadata": {
        "colab": {
          "base_uri": "https://localhost:8080/"
        },
        "id": "CDCo8lvPD6ir",
        "outputId": "f3202860-9fe7-4b37-8ee6-d7668898f65d"
      },
      "source": [
        "class teacher:\n",
        "  def __init__(self, Name, FacID, Branch, Salary):\n",
        "    self.Name = Name\n",
        "    self.FacID = FacID\n",
        "    self.Branch = Branch\n",
        "    self.Salary = Salary\n",
        "\n",
        "  def dispDetails(self):\n",
        "    print(\"################################################\")\n",
        "    print(\"Name:\", self.Name)\n",
        "    print(\"Fac ID:\", self.FacID)\n",
        "    print(\"Branch:\", self.Branch)\n",
        "    print(\"Salary:\", self.Salary)\n",
        "    print(\"################################################\")\n",
        "\n",
        "teach_list = []\n",
        "for i in range(2):\n",
        "  print(\"##################################################\")\n",
        "  Name = str(input(\"Enter the name: \"))\n",
        "  FacID = str(input(\"Enter the Faculty ID: \")) \n",
        "  Branch = str(input(\"Enter the branch: \"))\n",
        "  Salary = int(input(\"Enter the salary: \"))\n",
        "  teach_list.append(teacher(Name, FacID, Branch, Salary))\n",
        "  print(\"##################################################\")\n",
        "\n",
        "for i in range(2):\n",
        "  teach_list[i].dispDetails()"
      ],
      "execution_count": 6,
      "outputs": [
        {
          "output_type": "stream",
          "name": "stdout",
          "text": [
            "##################################################\n",
            "Enter the name: Hanuma\n",
            "Enter the Faculty ID: 99084\n",
            "Enter the branch: CSE\n",
            "Enter the salary: 90000\n",
            "##################################################\n",
            "##################################################\n",
            "Enter the name: AHR\n",
            "Enter the Faculty ID: 08462\n",
            "Enter the branch: DSAI\n",
            "Enter the salary: 95000\n",
            "##################################################\n",
            "################################################\n",
            "Name: Hanuma\n",
            "Fac ID: 99084\n",
            "Branch: CSE\n",
            "Salary: 90000\n",
            "################################################\n",
            "################################################\n",
            "Name: AHR\n",
            "Fac ID: 08462\n",
            "Branch: DSAI\n",
            "Salary: 95000\n",
            "################################################\n"
          ]
        }
      ]
    },
    {
      "cell_type": "code",
      "metadata": {
        "colab": {
          "base_uri": "https://localhost:8080/"
        },
        "id": "Mlnb4nSU4ioG",
        "outputId": "91127435-a154-4b14-ec1a-24fcd8f10ec1"
      },
      "source": [
        "class account:\n",
        "  def __init__(self, Name, Account_No, Deposit):\n",
        "    self.accountNumber = Account_No\n",
        "    self.Name = Name\n",
        "    self.Savings = Deposit\n",
        "\n",
        "  def Deposit(self, amount):\n",
        "    self.Savings += amount\n",
        "    print(f\"Rs {amount} has been deposited\")\n",
        "    print(f\"current savings: {self.Savings}\")\n",
        "    \n",
        "\n",
        "  def Withdraw(self, amount):\n",
        "    if (amount > self.Savings):\n",
        "      print(\"Insufficient savings\")\n",
        "      \n",
        "    else:\n",
        "      self.Savings -= amount\n",
        "      print(f\"Rs {amount} has been withdrawn\")\n",
        "      print(f\"current savings: {self.Savings}\")\n",
        "      \n",
        "\n",
        "  def check_balance(self):\n",
        "    print(f\"current savings: {self.Savings}\")\n",
        "    \n",
        "  def displayAccount(self):\n",
        "    print(\"Name:\", self.Name)\n",
        "    print(\"Account Number\", self.accountNumber)\n",
        "    print(f\"current savings: {self.Savings}\")\n",
        "    \n",
        "\n",
        "name = str(input(\"Enter your name: \"))\n",
        "account_no = int(input(\"Enter the account number: \"))\n",
        "deposit = int(input(\"Enter the initial balance: \"))\n",
        "User_acc = account(name, account_no, deposit)\n",
        "\n",
        "while True:\n",
        "  choice = int(input(\"Select an option:\\n1. Deposit\\n2. Withdraw\\n3. Check Balance\\n4. Display Account\\n5. Exit\\n\"))\n",
        "  if choice == 1:\n",
        "    amount = int(input(\"Enter the amount to deposit: \"))\n",
        "    User_acc.Deposit(amount)\n",
        "  elif choice == 2:\n",
        "    amount = int(input(\"Enter the amount to withdraw: \"))\n",
        "    User_acc.Withdraw(amount)\n",
        "  elif choice == 3:\n",
        "    User_acc.check_balance()\n",
        "  elif choice == 4:\n",
        "    User_acc.displayAccount()\n",
        "  elif choice == 5:\n",
        "    break\n",
        "  else:\n",
        "    print(\"enter a valid choice\")"
      ],
      "execution_count": 7,
      "outputs": [
        {
          "name": "stdout",
          "output_type": "stream",
          "text": [
            "Enter your name: Hanuma\n",
            "Enter the account number: 1420066\n",
            "Enter the initial balance: 10000\n",
            "Select an option:\n",
            "1. Deposit\n",
            "2. Withdraw\n",
            "3. Check Balance\n",
            "4. Display Account\n",
            "5. Exit\n",
            "2\n",
            "Enter the amount to withdraw: 11000\n",
            "Insufficient savings\n",
            "Select an option:\n",
            "1. Deposit\n",
            "2. Withdraw\n",
            "3. Check Balance\n",
            "4. Display Account\n",
            "5. Exit\n",
            "3\n",
            "current savings: 10000\n",
            "Select an option:\n",
            "1. Deposit\n",
            "2. Withdraw\n",
            "3. Check Balance\n",
            "4. Display Account\n",
            "5. Exit\n",
            "4\n",
            "Name: Hanuma\n",
            "Account Number 1420066\n",
            "current savings: 10000\n",
            "Select an option:\n",
            "1. Deposit\n",
            "2. Withdraw\n",
            "3. Check Balance\n",
            "4. Display Account\n",
            "5. Exit\n",
            "5\n"
          ]
        }
      ]
    },
    {
      "cell_type": "code",
      "metadata": {
        "colab": {
          "base_uri": "https://localhost:8080/"
        },
        "id": "ZRX7Mmsl9Tq-",
        "outputId": "266a6156-903c-44c5-b831-f2cc3f623b9b"
      },
      "source": [
        "class Student:\n",
        "  def __init__(self, name, USN, marks : list):\n",
        "    self.name = name\n",
        "    self.USN = USN\n",
        "    self.marks = marks\n",
        "\n",
        "  def disp(self):\n",
        "    print(\"Name:\", self.name)\n",
        "    print(\"USN:\", self.USN)\n",
        "    print(\"Probability:\", self.marks[0])\n",
        "    print(\"OOP:\", self.marks[1])\n",
        "    print(\"ISP:\", self.marks[2])\n",
        "\n",
        "S1 = Student(\"Hanuma\", \"20bcs008\", [70, 80, 90])\n",
        "S1.disp()"
      ],
      "execution_count": 9,
      "outputs": [
        {
          "output_type": "stream",
          "name": "stdout",
          "text": [
            "Name: Hanuma\n",
            "USN: 20bcs008\n",
            "Probability: 70\n",
            "OOP: 80\n",
            "ISP: 90\n"
          ]
        }
      ]
    },
    {
      "cell_type": "code",
      "metadata": {
        "colab": {
          "base_uri": "https://localhost:8080/"
        },
        "id": "ZEEAaX_lABeX",
        "outputId": "2db1f931-fb7b-4ea1-fd3e-90abe1f001cf"
      },
      "source": [
        "class Patient:\n",
        "  def __init__(self, name, admission_date, symptoms : list, oxy_level, discharge_date):\n",
        "    self.name = name\n",
        "    self.admission_date = admission_date\n",
        "    self.symptoms = symptoms\n",
        "    self.oxy_level = oxy_level\n",
        "    self.discharge_date = discharge_date\n",
        "\n",
        "class PatientData:\n",
        "  def __init__(self):\n",
        "    self.oxygen_support = []\n",
        "    self.general_ward = []\n",
        "\n",
        "  def addPatient(self, patient):\n",
        "    if (patient.oxy_level < 90):\n",
        "      self.oxygen_support.append(patient)\n",
        "    else:\n",
        "      self.general_ward.append(patient)\n",
        "\n",
        "  def numberOxygen(self):\n",
        "    print(f\"The number of patients needing oxygen support is {len(self.oxygen_support)}\")\n",
        "\n",
        "  def numberGeneral(self):\n",
        "    print(f\"The number of patients in general ward is {len(self.general_ward)}\")\n",
        "\n",
        "  def totalPatients(self):\n",
        "    print(f\"The number of patients is {len(self.general_ward)+len(self.oxygen_support)}\")\n",
        "\n",
        "  def patientInfo(self):\n",
        "    print(\"Patients in oxygen support\\n\")\n",
        "    \n",
        "    for patient in self.oxygen_support:\n",
        "      print(\"Name:\", patient.name)\n",
        "      print(\"Admission Date:\", patient.admission_date)\n",
        "      print(\"symptoms:\", patient.symptoms)\n",
        "      print(\"oxygen level:\", patient.oxy_level)\n",
        "      print(\"Discharge Date:\", patient.discharge_date)\n",
        "      \n",
        "\n",
        "    print(\"\\nPatients in General ward\\n\")\n",
        "    \n",
        "    for patient in self.general_ward:\n",
        "      print(\"Name:\", patient.name)\n",
        "      print(\"Admission Date:\", patient.admission_date)\n",
        "      print(\"symptoms:\", patient.symptoms)\n",
        "      print(\"oxygen level:\", patient.oxy_level)\n",
        "      print(\"Discharge Date:\", patient.discharge_date)\n",
        "      \n",
        "\n",
        "p1 = Patient(\"Venu\", \"12/09/2021\", [\"Headache\", \"Nausea\"], 80, \"20/09/2021\\n\")\n",
        "p2 = Patient(\"Gopi\", \"21/09/2021\", [\"Malaria\", \"Fever\"], 110, \"28/09/2021\\n\")\n",
        "\n",
        "db = PatientData()\n",
        "db.addPatient(p1)\n",
        "db.addPatient(p2)\n",
        "db.patientInfo()\n",
        "db.numberOxygen()\n",
        "db.numberGeneral()\n",
        "db.totalPatients()"
      ],
      "execution_count": 18,
      "outputs": [
        {
          "output_type": "stream",
          "name": "stdout",
          "text": [
            "Patients in oxygen support\n",
            "\n",
            "Name: Venu\n",
            "Admission Date: 12/09/2021\n",
            "symptoms: ['Headache', 'Nausea']\n",
            "oxygen level: 80\n",
            "Discharge Date: 20/09/2021\n",
            "\n",
            "\n",
            "Patients in General ward\n",
            "\n",
            "Name: Gopi\n",
            "Admission Date: 21/09/2021\n",
            "symptoms: ['Malaria', 'Fever']\n",
            "oxygen level: 110\n",
            "Discharge Date: 28/09/2021\n",
            "\n",
            "The number of patients needing oxygen support is 1\n",
            "The number of patients in general ward is 1\n",
            "The number of patients is 2\n"
          ]
        }
      ]
    },
    {
      "cell_type": "code",
      "metadata": {
        "colab": {
          "base_uri": "https://localhost:8080/"
        },
        "id": "ej0dYsf-M4N1",
        "outputId": "4920251e-5dda-4f34-d177-e4a866821d16"
      },
      "source": [
        "class Student:\n",
        "  def __init__(self, name : str, age : int, roll_number : int):\n",
        "    self.name = name\n",
        "    self.age = age\n",
        "    self.roll = roll_number\n",
        "    \n",
        "  @classmethod\n",
        "  def compareAge(cls, s1, s2):\n",
        "    if s1.age == s2.age:\n",
        "      print(\"Equal age\")\n",
        "    else:\n",
        "      print(\"Ages not equal\")\n",
        "\n",
        "Rahul = Student(\"Rahul\", 21, 33)\n",
        "Rohit = Student(\"Rohit\", 22, 74)\n",
        "\n",
        "Student.compareAge(Rahul, Rohit)"
      ],
      "execution_count": 21,
      "outputs": [
        {
          "output_type": "stream",
          "name": "stdout",
          "text": [
            "Ages not equal\n"
          ]
        }
      ]
    },
    {
      "cell_type": "code",
      "metadata": {
        "colab": {
          "base_uri": "https://localhost:8080/"
        },
        "id": "oQm79Bm4NrS0",
        "outputId": "35775bb8-3b75-4df4-a91b-f07f32a55fbf"
      },
      "source": [
        "class Student:\n",
        "  sem = 3\n",
        "  Institute = \"Indian Institute of Information Technology\"\n",
        "  def __init__(self, name : str, usn : int):\n",
        "    self.name = name\n",
        "    self.usn = usn\n",
        "\n",
        "  def dispInst(self):\n",
        "    print(\"sem:\", self.sem)\n",
        "    print(\"Institute:\", self.Institute)\n",
        "    print(\"Name:\", self.name)\n",
        "    print(\"USN:\", self.usn)\n",
        "\n",
        "  @classmethod\n",
        "  def dispCls(cls):\n",
        "    print(\"Class Sem:\", cls.sem)\n",
        "    print(\"Class institute:\", cls.Institute)\n",
        "\n",
        "s1 = Student(\"Hanuma\", 8)\n",
        "s1.dispInst()\n",
        "print(\"*********************************************\")\n",
        "Student.dispCls()"
      ],
      "execution_count": 30,
      "outputs": [
        {
          "output_type": "stream",
          "name": "stdout",
          "text": [
            "sem: 3\n",
            "Institute: Indian Institute of Information Technology\n",
            "Name: Hanuma\n",
            "USN: 8\n",
            "*********************************************\n",
            "Class Sem: 3\n",
            "Class institute: Indian Institute of Information Technology\n"
          ]
        }
      ]
    },
    {
      "cell_type": "code",
      "metadata": {
        "colab": {
          "base_uri": "https://localhost:8080/"
        },
        "id": "XVLo5s6eP6dp",
        "outputId": "7651f3bb-b139-484c-ffc7-99bd24830d3a"
      },
      "source": [
        "class Student:\n",
        "\n",
        "  def __init__(self, Name, roll_number, sem, laptop_name, laptop_cpu, laptop_ram, laptop_hd):\n",
        "    self.name = Name\n",
        "    self.roll_num = roll_number\n",
        "    self.sem = sem\n",
        "    self.laptop = self.Laptop(laptop_name, laptop_cpu, laptop_ram, laptop_hd)\n",
        "\n",
        "\n",
        "  class Laptop:\n",
        "    def __init__(self, name, cpu, ram : int, hd):\n",
        "      self.name = name\n",
        "      self.cpu = cpu\n",
        "      self.ram = ram\n",
        "      self.hd = hd\n",
        "\n",
        "    def specifications(self):\n",
        "      print(\"Laptop Name:\", self.name)\n",
        "      print(\"Laptop CPU:\", self.cpu)\n",
        "      print(\"Laptop RAM:\", self.ram, \"GB\")\n",
        "      print(\"Laptop Hard disk:\", self.hd)\n",
        "\n",
        "  def disp(self):\n",
        "    print(\"Name:\", self.name)\n",
        "    print(\"Roll Number:\", self.roll_num)\n",
        "    print(\"Sem:\", self.sem)\n",
        "    self.laptop.specifications()\n",
        "\n",
        "Hanuma = Student(\"Hanuma\", 8 , 3,\"HP\", \"Intel i5\", 8, \"1TB SSD\")\n",
        "Hanuma.disp()"
      ],
      "execution_count": 34,
      "outputs": [
        {
          "output_type": "stream",
          "name": "stdout",
          "text": [
            "Name: Hanuma\n",
            "Roll Number: 8\n",
            "Sem: 3\n",
            "Laptop Name: HP\n",
            "Laptop CPU: Intel i5\n",
            "Laptop RAM: 8 GB\n",
            "Laptop Hard disk: 1TB SSD\n"
          ]
        }
      ]
    }
  ]
}